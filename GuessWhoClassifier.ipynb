{
 "cells": [
  {
   "cell_type": "code",
   "execution_count": 1,
   "id": "3ea45b8a-7032-4620-8b45-77960faf26c1",
   "metadata": {},
   "outputs": [],
   "source": [
    "import pandas as pd"
   ]
  },
  {
   "cell_type": "code",
   "execution_count": 9,
   "id": "3bbe6b53-85d7-43c7-8104-20cac7eceb39",
   "metadata": {},
   "outputs": [
    {
     "name": "stdout",
     "output_type": "stream",
     "text": [
      "/Users/johnhoughton/Box/GuessWhoClassifier\n"
     ]
    }
   ],
   "source": [
    "cd '/Users/johnhoughton/Box/GuessWhoClassifier'"
   ]
  },
  {
   "cell_type": "code",
   "execution_count": 12,
   "id": "9ac5f672-fcff-405e-b265-2742bc1e1c48",
   "metadata": {},
   "outputs": [
    {
     "data": {
      "text/html": [
       "<div>\n",
       "<style scoped>\n",
       "    .dataframe tbody tr th:only-of-type {\n",
       "        vertical-align: middle;\n",
       "    }\n",
       "\n",
       "    .dataframe tbody tr th {\n",
       "        vertical-align: top;\n",
       "    }\n",
       "\n",
       "    .dataframe thead th {\n",
       "        text-align: right;\n",
       "    }\n",
       "</style>\n",
       "<table border=\"1\" class=\"dataframe\">\n",
       "  <thead>\n",
       "    <tr style=\"text-align: right;\">\n",
       "      <th></th>\n",
       "      <th>name</th>\n",
       "      <th>male?</th>\n",
       "      <th>white skin?</th>\n",
       "      <th>brown eyes?</th>\n",
       "      <th>blue eyes?</th>\n",
       "      <th>green eyes?</th>\n",
       "      <th>red hair?</th>\n",
       "      <th>gray hair?</th>\n",
       "      <th>dark hair?</th>\n",
       "      <th>blonde hair?</th>\n",
       "      <th>...</th>\n",
       "      <th>short hair?</th>\n",
       "      <th>beard?</th>\n",
       "      <th>mustache?</th>\n",
       "      <th>sideburns?</th>\n",
       "      <th>smile?</th>\n",
       "      <th>glasses?</th>\n",
       "      <th>hat?</th>\n",
       "      <th>ribbons on hat?</th>\n",
       "      <th>earrings?</th>\n",
       "      <th>spots on face?</th>\n",
       "    </tr>\n",
       "  </thead>\n",
       "  <tbody>\n",
       "    <tr>\n",
       "      <th>0</th>\n",
       "      <td>Will</td>\n",
       "      <td>yes</td>\n",
       "      <td>yes</td>\n",
       "      <td>yes</td>\n",
       "      <td>no</td>\n",
       "      <td>no</td>\n",
       "      <td>no</td>\n",
       "      <td>no</td>\n",
       "      <td>yes</td>\n",
       "      <td>no</td>\n",
       "      <td>...</td>\n",
       "      <td>no</td>\n",
       "      <td>no</td>\n",
       "      <td>no</td>\n",
       "      <td>no</td>\n",
       "      <td>no</td>\n",
       "      <td>yes</td>\n",
       "      <td>no</td>\n",
       "      <td>no</td>\n",
       "      <td>no</td>\n",
       "      <td>no</td>\n",
       "    </tr>\n",
       "    <tr>\n",
       "      <th>1</th>\n",
       "      <td>Bill</td>\n",
       "      <td>yes</td>\n",
       "      <td>yes</td>\n",
       "      <td>no</td>\n",
       "      <td>yes</td>\n",
       "      <td>no</td>\n",
       "      <td>no</td>\n",
       "      <td>no</td>\n",
       "      <td>yes</td>\n",
       "      <td>no</td>\n",
       "      <td>...</td>\n",
       "      <td>yes</td>\n",
       "      <td>no</td>\n",
       "      <td>yes</td>\n",
       "      <td>no</td>\n",
       "      <td>yes</td>\n",
       "      <td>no</td>\n",
       "      <td>no</td>\n",
       "      <td>no</td>\n",
       "      <td>no</td>\n",
       "      <td>no</td>\n",
       "    </tr>\n",
       "    <tr>\n",
       "      <th>2</th>\n",
       "      <td>Anna</td>\n",
       "      <td>no</td>\n",
       "      <td>yes</td>\n",
       "      <td>yes</td>\n",
       "      <td>no</td>\n",
       "      <td>no</td>\n",
       "      <td>no</td>\n",
       "      <td>no</td>\n",
       "      <td>no</td>\n",
       "      <td>yes</td>\n",
       "      <td>...</td>\n",
       "      <td>no</td>\n",
       "      <td>no</td>\n",
       "      <td>no</td>\n",
       "      <td>no</td>\n",
       "      <td>yes</td>\n",
       "      <td>no</td>\n",
       "      <td>no</td>\n",
       "      <td>no</td>\n",
       "      <td>no</td>\n",
       "      <td>no</td>\n",
       "    </tr>\n",
       "    <tr>\n",
       "      <th>3</th>\n",
       "      <td>Lana</td>\n",
       "      <td>no</td>\n",
       "      <td>yes</td>\n",
       "      <td>yes</td>\n",
       "      <td>no</td>\n",
       "      <td>no</td>\n",
       "      <td>yes</td>\n",
       "      <td>no</td>\n",
       "      <td>no</td>\n",
       "      <td>no</td>\n",
       "      <td>...</td>\n",
       "      <td>yes</td>\n",
       "      <td>no</td>\n",
       "      <td>no</td>\n",
       "      <td>no</td>\n",
       "      <td>yes</td>\n",
       "      <td>yes</td>\n",
       "      <td>yes</td>\n",
       "      <td>yes</td>\n",
       "      <td>no</td>\n",
       "      <td>no</td>\n",
       "    </tr>\n",
       "    <tr>\n",
       "      <th>4</th>\n",
       "      <td>Olga</td>\n",
       "      <td>no</td>\n",
       "      <td>yes</td>\n",
       "      <td>no</td>\n",
       "      <td>yes</td>\n",
       "      <td>no</td>\n",
       "      <td>no</td>\n",
       "      <td>no</td>\n",
       "      <td>no</td>\n",
       "      <td>yes</td>\n",
       "      <td>...</td>\n",
       "      <td>yes</td>\n",
       "      <td>no</td>\n",
       "      <td>no</td>\n",
       "      <td>no</td>\n",
       "      <td>no</td>\n",
       "      <td>no</td>\n",
       "      <td>yes</td>\n",
       "      <td>no</td>\n",
       "      <td>no</td>\n",
       "      <td>yes</td>\n",
       "    </tr>\n",
       "  </tbody>\n",
       "</table>\n",
       "<p>5 rows × 23 columns</p>\n",
       "</div>"
      ],
      "text/plain": [
       "   name male? white skin? brown eyes? blue eyes? green eyes? red hair?  \\\n",
       "0  Will   yes         yes         yes         no          no        no   \n",
       "1  Bill   yes         yes          no        yes          no        no   \n",
       "2  Anna    no         yes         yes         no          no        no   \n",
       "3  Lana    no         yes         yes         no          no       yes   \n",
       "4  Olga    no         yes          no        yes          no        no   \n",
       "\n",
       "  gray hair? dark hair? blonde hair?  ... short hair? beard? mustache?  \\\n",
       "0         no        yes           no  ...          no     no        no   \n",
       "1         no        yes           no  ...         yes     no       yes   \n",
       "2         no         no          yes  ...          no     no        no   \n",
       "3         no         no           no  ...         yes     no        no   \n",
       "4         no         no          yes  ...         yes     no        no   \n",
       "\n",
       "  sideburns? smile? glasses? hat? ribbons on hat? earrings? spots on face?  \n",
       "0         no     no      yes   no              no        no             no  \n",
       "1         no    yes       no   no              no        no             no  \n",
       "2         no    yes       no   no              no        no             no  \n",
       "3         no    yes      yes  yes             yes        no             no  \n",
       "4         no     no       no  yes              no        no            yes  \n",
       "\n",
       "[5 rows x 23 columns]"
      ]
     },
     "execution_count": 12,
     "metadata": {},
     "output_type": "execute_result"
    }
   ],
   "source": [
    "df = pd.read_csv('guess_who_data.csv')\n",
    "df.head()"
   ]
  },
  {
   "cell_type": "code",
   "execution_count": 44,
   "id": "f9116918-0662-4103-ab77-a99dfde34898",
   "metadata": {},
   "outputs": [],
   "source": [
    "def clean_dataframe_column_names(df):\n",
    "    cols = df.columns\n",
    "    new_column_names = []\n",
    "\n",
    "    for col in cols:\n",
    "        new_col = col.lstrip().rstrip().lower().replace (\" \", \"_\") #strip beginning spaces, makes lowercase, add underscpre\n",
    "        new_column_names.append(new_col)\n",
    "\n",
    "    return new_column_names"
   ]
  },
  {
   "cell_type": "code",
   "execution_count": 45,
   "id": "994d64e9-c5dd-4687-8e87-f1929a2e399a",
   "metadata": {},
   "outputs": [],
   "source": [
    "df.columns = clean_dataframe_column_names(df)"
   ]
  },
  {
   "cell_type": "code",
   "execution_count": 46,
   "id": "a148866f-a8d8-454b-bd5e-c9569fbe9b15",
   "metadata": {},
   "outputs": [],
   "source": [
    "dummy_cols = [col for col in df.columns if '?' in col]\n",
    "\n",
    "x = df[dummy_cols]\n",
    "y = df.name"
   ]
  },
  {
   "cell_type": "code",
   "execution_count": 76,
   "id": "be10db86-45b9-4aff-83bc-f4ba33637b2f",
   "metadata": {},
   "outputs": [
    {
     "data": {
      "text/plain": [
       "ColumnTransformer(transformers=[('dummy_transformer',\n",
       "                                 Pipeline(steps=[('OrdinalEncoder',\n",
       "                                                  OrdinalEncoder())]),\n",
       "                                 ['male?', 'white_skin?', 'brown_eyes?',\n",
       "                                  'blue_eyes?', 'green_eyes?', 'red_hair?',\n",
       "                                  'gray_hair?', 'dark_hair?', 'blonde_hair?',\n",
       "                                  'bald?', 'long_hair?', 'bun_hair?',\n",
       "                                  'short_hair?', 'beard?', 'mustache?',\n",
       "                                  'sideburns?', 'smile?', 'glasses?', 'hat?',\n",
       "                                  'ribbons_on_hat?', 'earrings?',\n",
       "                                  'spots_on_face?'])])"
      ]
     },
     "execution_count": 76,
     "metadata": {},
     "output_type": "execute_result"
    }
   ],
   "source": [
    "from sklearn.preprocessing import LabelEncoder\n",
    "from sklearn.compose import ColumnTransformer\n",
    "from sklearn.pipeline import Pipeline\n",
    "from sklearn.preprocessing import OrdinalEncoder\n",
    "\n",
    "le = OrdinalEncoder()\n",
    "\n",
    "# Preprocessing for categorical data\n",
    "dummy_transformer = Pipeline(steps=[\n",
    "    ('OrdinalEncoder', le)\n",
    "])\n",
    "\n",
    "# Bundle preprocessing for numerical and categorical data\n",
    "preprocessor = ColumnTransformer(\n",
    "    transformers=[        \n",
    "        ('dummy_transformer', dummy_transformer, dummy_cols)\n",
    "        ]\n",
    "        )\n",
    "\n",
    "preprocessor.fit(x)"
   ]
  },
  {
   "cell_type": "code",
   "execution_count": 79,
   "id": "c0ad3079-526e-482f-abf6-bce9fba5f4ce",
   "metadata": {},
   "outputs": [
    {
     "name": "stdout",
     "output_type": "stream",
     "text": [
      "CPU times: user 162 ms, sys: 16 ms, total: 178 ms\n",
      "Wall time: 184 ms\n"
     ]
    },
    {
     "data": {
      "text/plain": [
       "Pipeline(steps=[('preprocessor',\n",
       "                 ColumnTransformer(transformers=[('dummy_transformer',\n",
       "                                                  Pipeline(steps=[('OrdinalEncoder',\n",
       "                                                                   OrdinalEncoder())]),\n",
       "                                                  ['male?', 'white_skin?',\n",
       "                                                   'brown_eyes?', 'blue_eyes?',\n",
       "                                                   'green_eyes?', 'red_hair?',\n",
       "                                                   'gray_hair?', 'dark_hair?',\n",
       "                                                   'blonde_hair?', 'bald?',\n",
       "                                                   'long_hair?', 'bun_hair?',\n",
       "                                                   'short_hair?', 'beard?',\n",
       "                                                   'mustache?', 'sideburns?',\n",
       "                                                   'smile?', 'glasses?', 'hat?',\n",
       "                                                   'ribbons_on_hat?',\n",
       "                                                   'earrings?',\n",
       "                                                   'spots_on_face?'])])),\n",
       "                ('RandomForestClassifier',\n",
       "                 RandomForestClassifier(criterion='entropy', random_state=1))])"
      ]
     },
     "execution_count": 79,
     "metadata": {},
     "output_type": "execute_result"
    }
   ],
   "source": [
    "from sklearn.ensemble import RandomForestClassifier\n",
    "\n",
    "rfc = RandomForestClassifier(criterion='entropy', random_state=1)\n",
    "\n",
    "pipeline = Pipeline(steps=[('preprocessor', preprocessor),\n",
    "                      ('RandomForestClassifier', rfc)])\n",
    "\n",
    "%time pipeline.fit(x, y)"
   ]
  },
  {
   "cell_type": "code",
   "execution_count": 83,
   "id": "171e5794-263d-4f4f-9499-25d42d24336c",
   "metadata": {},
   "outputs": [
    {
     "name": "stdout",
     "output_type": "stream",
     "text": [
      "CPU times: user 21.2 ms, sys: 5.11 ms, total: 26.3 ms\n",
      "Wall time: 22.6 ms\n"
     ]
    },
    {
     "data": {
      "text/plain": [
       "1.0"
      ]
     },
     "execution_count": 83,
     "metadata": {},
     "output_type": "execute_result"
    }
   ],
   "source": [
    "# Make predictions for the test set\n",
    "%time y_pred_test = pipeline.predict(x)\n",
    "\n",
    "# View accuracy score\n",
    "accuracy_score(y, y_pred_test)"
   ]
  }
 ],
 "metadata": {
  "kernelspec": {
   "display_name": "Python 3 (ipykernel)",
   "language": "python",
   "name": "python3"
  },
  "language_info": {
   "codemirror_mode": {
    "name": "ipython",
    "version": 3
   },
   "file_extension": ".py",
   "mimetype": "text/x-python",
   "name": "python",
   "nbconvert_exporter": "python",
   "pygments_lexer": "ipython3",
   "version": "3.9.7"
  }
 },
 "nbformat": 4,
 "nbformat_minor": 5
}
